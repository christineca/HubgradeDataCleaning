{
 "cells": [
  {
   "cell_type": "code",
   "execution_count": null,
   "metadata": {},
   "outputs": [
    {
     "data": {
      "text/plain": [
       "array([[3.19938283e+00, 7.00000000e+00, 1.50062500e+02],\n",
       "       [1.20000000e+01, 2.40000000e+01, 8.82770094e+03],\n",
       "       [5.00000000e-01, 6.62587014e+00, 6.25000000e-02]])"
      ]
     },
     "execution_count": 24,
     "metadata": {},
     "output_type": "execute_result"
    }
   ],
   "source": [
    "import pandas as pd\n",
    "import numpy as np\n",
    "import re\n",
    "pd.set_option('display.max_rows', False)\n",
    "import numpy as np\n",
    "from sklearn.experimental import enable_iterative_imputer\n",
    "from sklearn.impute import IterativeImputer\n",
    "\n",
    "#SIMPLE TEST\n",
    "imp_mean = IterativeImputer(random_state=0)\n",
    "imp_mean.fit([[1,2,3],[3,6,9],[4, np.nan,12],[10, 20,30],[6,12,18],[8,16,24]])\n",
    "X = [[np.nan, 7, 10.5], [12, 24,np.nan], [0.5, np.nan,1.5]]\n",
    "imp_mean.transform(X)"
   ]
  }
 ],
 "metadata": {
  "kernelspec": {
   "display_name": "skysparkv1",
   "language": "python",
   "name": "python3"
  },
  "language_info": {
   "codemirror_mode": {
    "name": "ipython",
    "version": 3
   },
   "file_extension": ".py",
   "mimetype": "text/x-python",
   "name": "python",
   "nbconvert_exporter": "python",
   "pygments_lexer": "ipython3",
   "version": "3.12.3"
  }
 },
 "nbformat": 4,
 "nbformat_minor": 2
}
